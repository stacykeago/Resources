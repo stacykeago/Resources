{
  "nbformat": 4,
  "nbformat_minor": 0,
  "metadata": {
    "colab": {
      "provenance": [],
      "authorship_tag": "ABX9TyN+JIvwwH7j0FtKgxzhGlO6",
      "include_colab_link": true
    },
    "kernelspec": {
      "name": "python3",
      "display_name": "Python 3"
    },
    "language_info": {
      "name": "python"
    }
  },
  "cells": [
    {
      "cell_type": "markdown",
      "metadata": {
        "id": "view-in-github",
        "colab_type": "text"
      },
      "source": [
        "<a href=\"https://colab.research.google.com/github/stacykeago/Resources/blob/main/mean_mode_quantile_variance_std.ipynb\" target=\"_parent\"><img src=\"https://colab.research.google.com/assets/colab-badge.svg\" alt=\"Open In Colab\"/></a>"
      ]
    },
    {
      "cell_type": "code",
      "execution_count": null,
      "metadata": {
        "id": "86EDoUR_ZUZ9"
      },
      "outputs": [],
      "source": [
        "# Import numpy with alias np\n",
        "import numpy as np\n",
        "\n",
        "# Filter for Belgium\n",
        "be_consumption = food_consumption[food_consumption['country'] == 'Belgium']\n",
        "\n",
        "# Filter for USA\n",
        "usa_consumption = food_consumption[food_consumption['country'] == 'USA']\n",
        "\n",
        "# Calculate mean and median consumption in Belgium\n",
        "print(np.mean(be_consumption['consumption']))\n",
        "print(np.median(be_consumption['consumption']))\n",
        "\n",
        "# Calculate mean and median consumption in USA\n",
        "print(np.mean(usa_consumption['consumption']))\n",
        "print(np.median(usa_consumption['consumption']))"
      ]
    },
    {
      "cell_type": "code",
      "source": [
        "# Import numpy as np\n",
        "import numpy as np\n",
        "\n",
        "# Subset for Belgium and USA only\n",
        "be_and_usa = food_consumption[(food_consumption['country'] == \"Belgium\") | (food_consumption['country'] == 'USA')]\n",
        "\n",
        "# Group by country, select consumption column, and compute mean and median\n",
        "print(be_and_usa.groupby('country')['consumption'].agg([np.mean, np.median]))"
      ],
      "metadata": {
        "id": "xFP-K6S4ZWrL"
      },
      "execution_count": null,
      "outputs": []
    },
    {
      "cell_type": "code",
      "source": [
        "# Import matplotlib.pyplot with alias plt\n",
        "import matplotlib.pyplot as plt\n",
        "\n",
        "# Subset for food_category equals 'rice'\n",
        "rice_consumption = food_consumption[food_consumption['food_category'] == 'rice']\n",
        "\n",
        "# Create a histogram of co2_emission for rice and show plot\n",
        "rice_consumption['co2_emission'].hist(bins=10, color='skyblue', edgecolor='black')\n",
        "plt.xlabel('CO2 Emission')\n",
        "plt.ylabel('Frequency')\n",
        "plt.title('Histogram of CO2 Emission for Rice Consumption')\n",
        "plt.show()\n"
      ],
      "metadata": {
        "id": "53BeBx_XcFEu"
      },
      "execution_count": null,
      "outputs": []
    },
    {
      "cell_type": "code",
      "source": [
        "# Calculate the quartiles of co2_emission\n",
        "print(np.quantile(food_consumption['co2_emission'], [0, 0.25, 0.5, 0.75, 1]))"
      ],
      "metadata": {
        "id": "9xOEe-u_cGWV"
      },
      "execution_count": null,
      "outputs": []
    },
    {
      "cell_type": "code",
      "source": [
        "# Calculate the quintiles of co2_emission\n",
        "print(np.quantile(food_consumption['co2_emission'], [0, 0.2, 0.4, 0.6, 0.8, 1]))"
      ],
      "metadata": {
        "id": "4JY3JpbniVxu"
      },
      "execution_count": null,
      "outputs": []
    },
    {
      "cell_type": "code",
      "source": [
        "# Calculate the deciles of co2_emission\n",
        "print(np.quantile(food_consumption['co2_emission'], np.linspace(0, 1, 11)))"
      ],
      "metadata": {
        "id": "iBzkTX1ok3NL"
      },
      "execution_count": null,
      "outputs": []
    },
    {
      "cell_type": "code",
      "source": [
        "# Print variance and sd of co2_emission for each food_category\n",
        "print(food_consumption.groupby('food_category')['co2_emission'].agg(['var', 'std']))\n",
        "\n",
        "# Import matplotlib.pyplot with alias plt\n",
        "import matplotlib.pyplot as plt\n",
        "\n",
        "# Create histogram of co2_emission for food_category 'beef'\n",
        "plt.hist(food_consumption[food_consumption['food_category'] == 'beef']['co2_emission'], bins=10, color='skyblue', edgecolor='black')\n",
        "plt.xlabel('CO2 Emission')\n",
        "plt.ylabel('Frequency')\n",
        "plt.title('Histogram of CO2 Emission for Beef Consumption')\n",
        "plt.show()\n",
        "\n",
        "# Create histogram of co2_emission for food_category 'eggs'\n",
        "plt.hist(food_consumption[food_consumption['food_category'] == 'eggs']['co2_emission'], bins=10, color='lightgreen', edgecolor='black')\n",
        "plt.xlabel('CO2 Emission')\n",
        "plt.ylabel('Frequency')\n",
        "plt.title('Histogram of CO2 Emission for Eggs Consumption')\n",
        "plt.show()\n"
      ],
      "metadata": {
        "id": "fb4VFfpEk3ww"
      },
      "execution_count": null,
      "outputs": []
    },
    {
      "cell_type": "code",
      "source": [
        "# Calculate total co2_emission per country: emissions_by_country\n",
        "emissions_by_country = food_consumption.groupby('country')['co2_emission'].sum()\n",
        "\n",
        "print(emissions_by_country)"
      ],
      "metadata": {
        "id": "slueP_WGyVxm"
      },
      "execution_count": null,
      "outputs": []
    },
    {
      "cell_type": "code",
      "source": [
        "# Calculate total co2_emission per country: emissions_by_country\n",
        "emissions_by_country = food_consumption.groupby('country')['co2_emission'].sum()\n",
        "\n",
        "# Compute the first and third quantiles and IQR of emissions_by_country\n",
        "q1 = np.quantile(emissions_by_country, 0.25)\n",
        "q3 = np.quantile(emissions_by_country, 0.75)\n",
        "iqr = q3 - q1\n",
        "\n",
        "# Calculate the lower and upper cutoffs for outliers\n",
        "lower = q1 - 1.5 * iqr\n",
        "upper = q3 + 1.5 * iqr\n",
        "\n",
        "# Subset emissions_by_country to find outliers\n",
        "outliers = emissions_by_country[(emissions_by_country < lower) | (emissions_by_country > upper)]\n",
        "print(outliers)\n"
      ],
      "metadata": {
        "id": "g_WteFWTyWu5"
      },
      "execution_count": null,
      "outputs": []
    },
    {
      "cell_type": "code",
      "source": [
        "# Count the deals for each product\n",
        "counts = amir_deals['product'].value_counts()\n",
        "print(counts)"
      ],
      "metadata": {
        "id": "44BeJVW2zbvN"
      },
      "execution_count": null,
      "outputs": []
    },
    {
      "cell_type": "code",
      "source": [
        "# Assuming 'amir_deals' is your DataFrame and 'product' is the column representing products\n",
        "counts = amir_deals['product'].value_counts()\n",
        "\n",
        "# Calculate probability of picking a deal with each product\n",
        "probs = counts / counts.sum()\n",
        "\n",
        "# Display the probabilities\n",
        "print(probs)\n"
      ],
      "metadata": {
        "id": "Zq5B8Zv21k3u"
      },
      "execution_count": null,
      "outputs": []
    },
    {
      "cell_type": "code",
      "source": [
        "import numpy as np\n",
        "\n",
        "# Set random seed\n",
        "np.random.seed(24)\n",
        "\n",
        "# Sample 5 deals without replacement\n",
        "sample_without_replacement = amir_deals.sample(n=5, replace=False)\n",
        "\n",
        "# Display the sample\n",
        "print(sample_without_replacement)\n"
      ],
      "metadata": {
        "id": "rfpS49z_3sJS"
      },
      "execution_count": null,
      "outputs": []
    },
    {
      "cell_type": "code",
      "source": [
        "# Set random seed\n",
        "np.random.seed(24)\n",
        "\n",
        "# Sample 5 deals with replacement\n",
        "sample_with_replacement = amir_deals.sample(n=5, replace=True)\n",
        "\n",
        "# Display the sample\n",
        "print(sample_with_replacement)\n"
      ],
      "metadata": {
        "id": "hQTjvgPy4OaA"
      },
      "execution_count": null,
      "outputs": []
    }
  ]
}